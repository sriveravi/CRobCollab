{
 "cells": [
  {
   "cell_type": "code",
   "execution_count": 25,
   "metadata": {
    "collapsed": false
   },
   "outputs": [
    {
     "name": "stdout",
     "output_type": "stream",
     "text": [
      "Populating the interactive namespace from numpy and matplotlib\n"
     ]
    },
    {
     "name": "stderr",
     "output_type": "stream",
     "text": [
      "WARNING: pylab import has clobbered these variables: ['colors', 'test']\n",
      "`%matplotlib` prevents importing * from pylab and numpy\n"
     ]
    }
   ],
   "source": [
    "import pandas as pd\n",
    "import numpy as np\n",
    "import os\n",
    "\n",
    "%pylab inline"
   ]
  },
  {
   "cell_type": "code",
   "execution_count": 26,
   "metadata": {
    "collapsed": false,
    "scrolled": true
   },
   "outputs": [],
   "source": [
    "\n",
    "# load up training and test data, combine into one dataFrame\n",
    "dfTrain = pd.read_csv( 'SporeTrainByTrial.txt', sep='\\t')\n",
    "dfTest =  pd.read_csv( 'SporeTestByTrial.txt', sep='\\t')\n",
    "\n",
    "df = pd.concat([dfTrain, dfTest], ignore_index=True, axis=0)\n",
    "df.to_csv( 'sporeDataByTrialCombined.txt', sep='\\t', index=False)"
   ]
  },
  {
   "cell_type": "code",
   "execution_count": 27,
   "metadata": {
    "collapsed": false
   },
   "outputs": [
    {
     "data": {
      "text/plain": [
       "<matplotlib.axes._subplots.AxesSubplot at 0x109d2f890>"
      ]
     },
     "execution_count": 27,
     "metadata": {},
     "output_type": "execute_result"
    },
    {
     "data": {
      "image/png": "[encoded data removed]",
      "text/plain": [
       "<matplotlib.figure.Figure at 0x1075d1510>"
      ]
     },
     "metadata": {},
     "output_type": "display_data"
    },
    {
     "data": {
      "image/png": "[encoded data removed]",
      "text/plain": [
       "<matplotlib.figure.Figure at 0x1075d1210>"
      ]
     },
     "metadata": {},
     "output_type": "display_data"
    }
   ],
   "source": [
    "# show RT histograms (both standard and log transformed)\n",
    "df.RTEstimate.hist(bins=1000)\n",
    "figure()\n",
    "df.logRT.hist(bins=1000)\n",
    "\n",
    "\n"
   ]
  },
  {
   "cell_type": "code",
   "execution_count": 28,
   "metadata": {
    "collapsed": false
   },
   "outputs": [
    {
     "name": "stdout",
     "output_type": "stream",
     "text": [
      "['1' '10' '11' '12' '14' '15' '16' '17' '18' '19' '2' '20' '3' '4' '5' '6'\n",
      " '7' '8t' '9']\n",
      "19 participants\n",
      "Index([u'KEYPRESS', u'RESPONSE', u'RTEstimate', u'TRAIL_INDEX', u'auditory',\n",
      "       u'block', u'cond', u'correct_response', u'logRT', u'subid',\n",
      "       u'trgFirstFixRel', u'trgLatFix', u'trgLatRelFix', u'trgMDur',\n",
      "       u'trgMpup', u'trgNFix', u'trgNSac', u'trgRelProp', u'trgSAmp',\n",
      "       u'trialTime', u'trialtype', u'type', u'visual', u'warningBeepOn'],\n",
      "      dtype='object')\n"
     ]
    }
   ],
   "source": [
    "print df.subid.unique()\n",
    "print('%d participants'%( len(df.subid.unique())) ) \n",
    "\n",
    "print df.columns"
   ]
  },
  {
   "cell_type": "code",
   "execution_count": 29,
   "metadata": {
    "collapsed": false
   },
   "outputs": [],
   "source": [
    "\n",
    "# df.ix[df.subid== '5','acc']"
   ]
  },
  {
   "cell_type": "code",
   "execution_count": 30,
   "metadata": {
    "collapsed": false
   },
   "outputs": [
    {
     "name": "stderr",
     "output_type": "stream",
     "text": [
      "/usr/local/lib/python2.7/site-packages/ipykernel/__main__.py:4: SettingWithCopyWarning: \n",
      "A value is trying to be set on a copy of a slice from a DataFrame.\n",
      "Try using .loc[row_indexer,col_indexer] = value instead\n",
      "\n",
      "See the the caveats in the documentation: http://pandas.pydata.org/pandas-docs/stable/indexing.html#indexing-view-versus-copy\n"
     ]
    },
    {
     "data": {
      "text/plain": [
       "Index([u'subid', u'trialtype', u'cond', u'KEYPRESS', u'RTEstimate',\n",
       "       u'TRAIL_INDEX', u'block', u'correct_response', u'logRT', u'trgLatFix',\n",
       "       u'trgLatRelFix', u'trgMDur', u'trgMpup', u'trgNFix', u'trgNSac',\n",
       "       u'trgRelProp', u'trgSAmp', u'trialTime', u'warningBeepOn', u'acc'],\n",
       "      dtype='object')"
      ]
     },
     "execution_count": 30,
     "metadata": {},
     "output_type": "execute_result"
    }
   ],
   "source": [
    "# Get test\n",
    "# add accuracy column.  Invert accuracy of participant 5, who inverted responding\n",
    "test = df[df['type'] == 'Test']\n",
    "test['acc'] = test.RESPONSE.apply( lambda(x): 1 if x=='Correct' else 0)\n",
    "test.ix[test.subid== '5','acc'] = 1 - test.ix[test.subid== '5','acc']\n",
    "\n",
    "# get test averages by participant and condition\n",
    "testMean = test.groupby(['subid', 'trialtype','cond']).mean().reset_index()\n",
    "testMean.columns"
   ]
  },
  {
   "cell_type": "code",
   "execution_count": 31,
   "metadata": {
    "collapsed": false
   },
   "outputs": [
    {
     "data": {
      "image/png": "[encoded data removed]",
      "text/plain": [
       "<matplotlib.figure.Figure at 0x1055694d0>"
      ]
     },
     "metadata": {},
     "output_type": "display_data"
    }
   ],
   "source": [
    "# Plot accuracy by condition (implied at test)\n",
    "figure(figsize=(5,2))\n",
    "\n",
    "conds = ['Common', 'Silent','Unique']\n",
    "tests =  ['Old','Lures']\n",
    "\n",
    "colors = dict(zip(tests, ['gray','red']))\n",
    "w = .5\n",
    "xPos = 1\n",
    "for c in conds:\n",
    "    for t in tests:\n",
    "        acc = testMean[(testMean.trialtype == c) &(testMean.cond==t)].acc\n",
    "        bar(xPos, mean(acc), width=w, align='center', yerr=np.std(acc)/np.sqrt(len(acc)), color=colors[t], label=t )\n",
    "        xPos+=.5\n",
    "    xPos+=.2\n",
    "xlim([.5,4.4])\n",
    "xticks([1.3,2.5,3.7], conds, fontsize=16)\n",
    "ylabel('Accuracy', fontsize=14)\n",
    "yticks(fontsize=14)\n",
    "legend(tests, loc=4)\n",
    "\n",
    "\n",
    "\n",
    "imFolder = '../../../Papers/CogSci2016_Spore/Images/'  \n",
    "if not os.path.exists(imFolder):\n",
    "    os.mkdir(imFolder)\n",
    "\n",
    "saveFile = imFolder + 'accuracy.png'\n",
    "savefig(saveFile, bbox_inches='tight')"
   ]
  },
  {
   "cell_type": "code",
   "execution_count": 32,
   "metadata": {
    "collapsed": false
   },
   "outputs": [
    {
     "data": {
      "image/png": "[encoded data removed]",
      "text/plain": [
       "<matplotlib.figure.Figure at 0x10a38b590>"
      ]
     },
     "metadata": {},
     "output_type": "display_data"
    }
   ],
   "source": [
    "# Plot Rxn time by condition on Test, only accurate trials\n",
    "\n",
    "testOnlyAcc = test[test.acc == 1]\n",
    "testMeanAcc = testOnlyAcc.groupby(['subid', 'trialtype','cond']).mean().reset_index()\n",
    "\n",
    "figure(figsize=(5,2))\n",
    "\n",
    "conds = ['Common', 'Silent','Unique']\n",
    "tests =  ['Old','Lures']\n",
    "\n",
    "colors = dict(zip(tests, ['gray','red']))\n",
    "w = .5\n",
    "xPos = 1\n",
    "for c in conds:\n",
    "    for t in tests:\n",
    "        RTEstimate = testMeanAcc[(testMeanAcc.trialtype == c) &(testMeanAcc.cond==t)].RTEstimate\n",
    "        bar(xPos, mean(RTEstimate), width=w, align='center', yerr=np.std(RTEstimate)/np.sqrt(len(RTEstimate)), color=colors[t], label=t )\n",
    "        xPos+=.5\n",
    "    xPos+=.2\n",
    "xlim([.5,4.4])\n",
    "xticks([1.3,2.5,3.7], conds, fontsize=16)\n",
    "ylabel('Test RT (ms)', fontsize=14)\n",
    "yticks(fontsize=14)\n",
    "legend(tests, loc=4)\n",
    "\n",
    "\n",
    "\n",
    "saveFile = imFolder + 'testRxnTime.png'\n",
    "savefig(saveFile, bbox_inches='tight')"
   ]
  },
  {
   "cell_type": "code",
   "execution_count": 33,
   "metadata": {
    "collapsed": false
   },
   "outputs": [
    {
     "data": {
      "image/png": "[encoded data removed]",
      "text/plain": [
       "<matplotlib.figure.Figure at 0x10a38bad0>"
      ]
     },
     "metadata": {},
     "output_type": "display_data"
    }
   ],
   "source": [
    "# Plot prop deterministic looking on Test\n",
    "figure(figsize=(5,2))\n",
    "\n",
    "conds = ['Common', 'Silent','Unique']\n",
    "tests =  ['Old','Lures']\n",
    "\n",
    "colors = dict(zip(tests, ['gray','red']))\n",
    "w = .5\n",
    "xPos = 1\n",
    "for c in conds:\n",
    "    for t in tests:\n",
    "        acc = testMean[(testMean.trialtype == c) &(testMean.cond==t)].trgRelProp\n",
    "        bar(xPos, mean(acc), width=w, align='center', yerr=np.std(acc)/np.sqrt(len(acc)), color=colors[t], label=t )\n",
    "        xPos+=.5\n",
    "    xPos+=.2\n",
    "xlim([.5,4.4])\n",
    "xticks([1.3,2.5,3.7], conds, fontsize=16)\n",
    "ylabel('Test Det Looks', fontsize=14)\n",
    "yticks(fontsize=14)\n",
    "legend(tests, loc=1)\n",
    "\n",
    "\n",
    "saveFile = imFolder + 'testDetLook.png'\n",
    "savefig(saveFile, bbox_inches='tight')"
   ]
  },
  {
   "cell_type": "code",
   "execution_count": 34,
   "metadata": {
    "collapsed": false
   },
   "outputs": [
    {
     "data": {
      "image/png": "[encoded data removed]",
      "text/plain": [
       "<matplotlib.figure.Figure at 0x10623a990>"
      ]
     },
     "metadata": {},
     "output_type": "display_data"
    }
   ],
   "source": [
    "# Plot number fixations on Test\n",
    "figure(figsize=(5,2))\n",
    "\n",
    "conds = ['Common', 'Silent','Unique']\n",
    "tests =  ['Old','Lures']\n",
    "\n",
    "colors = dict(zip(tests, ['gray','red']))\n",
    "w = .5\n",
    "xPos = 1\n",
    "for c in conds:\n",
    "    for t in tests:\n",
    "        acc = testMean[(testMean.trialtype == c) &(testMean.cond==t)].trgNFix\n",
    "        bar(xPos, mean(acc), width=w, align='center', yerr=np.std(acc)/np.sqrt(len(acc)), color=colors[t], label=t )\n",
    "        xPos+=.5\n",
    "    xPos+=.2\n",
    "xlim([.5,4.4])\n",
    "xticks([1.3,2.5,3.7], conds, fontsize=16)\n",
    "ylabel('Test Fix Count', fontsize=14)\n",
    "yticks(fontsize=14)\n",
    "legend(tests, loc=4)\n",
    "\n",
    "\n",
    "saveFile = imFolder + 'testNFix.png'\n",
    "savefig(saveFile, bbox_inches='tight')"
   ]
  },
  {
   "cell_type": "code",
   "execution_count": 35,
   "metadata": {
    "collapsed": false
   },
   "outputs": [
    {
     "data": {
      "image/png": "[encoded data removed]",
      "text/plain": [
       "<matplotlib.figure.Figure at 0x10c6e4110>"
      ]
     },
     "metadata": {},
     "output_type": "display_data"
    }
   ],
   "source": [
    "#show train study time (RT)\n",
    "\n",
    "# get train averages by condition and block\n",
    "train = df[df['type'] == 'Train']\n",
    "trainMean = train.groupby(['subid', 'block', 'cond']).mean().reset_index()\n",
    "\n",
    "figure(figsize=(5,2))\n",
    "\n",
    "conds = ['Common', 'Silent','Unique']\n",
    "blocks =  [1,2,3]\n",
    "\n",
    "colors = dict(zip(blocks, ['gray','red', 'black']))\n",
    "w = .3\n",
    "xPos = 1\n",
    "for c in conds:\n",
    "    for b in blocks:\n",
    "        RTEstimate = trainMean[(trainMean.cond == c) &(trainMean.block==b)].RTEstimate\n",
    "        bar(xPos, mean(RTEstimate), width=w, align='center', yerr=np.std(RTEstimate)/np.sqrt(len(RTEstimate)), color=colors[b], label=b )\n",
    "        xPos+=.3\n",
    "    xPos+=.2\n",
    "xlim([.7,4.1])\n",
    "xticks([1.3,2.4,3.5], conds, fontsize=16)\n",
    "ylabel('Train RT (ms)', fontsize=14)\n",
    "yticks(fontsize=14)\n",
    "blocks[0] = 'block 1'\n",
    "legend(blocks, loc=3, ncol=3, fontsize=10)\n",
    "\n",
    "\n",
    "\n",
    "saveFile = imFolder + 'trainRxnTime.png'\n",
    "savefig(saveFile, bbox_inches='tight')"
   ]
  },
  {
   "cell_type": "code",
   "execution_count": 36,
   "metadata": {
    "collapsed": false
   },
   "outputs": [
    {
     "data": {
      "image/png": "[encoded data removed]",
      "text/plain": [
       "<matplotlib.figure.Figure at 0x10669b490>"
      ]
     },
     "metadata": {},
     "output_type": "display_data"
    }
   ],
   "source": [
    "# show train prop det looking\n",
    "\n",
    "figure(figsize=(5,2))\n",
    "\n",
    "conds = ['Common', 'Silent','Unique']\n",
    "blocks =  [1,2,3]\n",
    "\n",
    "colors = dict(zip(blocks, ['gray','red', 'black']))\n",
    "w = .3\n",
    "xPos = 1\n",
    "for c in conds:\n",
    "    for b in blocks:\n",
    "        RTEstimate = trainMean[(trainMean.cond == c) &(trainMean.block==b)].trgRelProp\n",
    "        bar(xPos, mean(RTEstimate), width=w, align='center', yerr=np.std(RTEstimate)/np.sqrt(len(RTEstimate)), color=colors[b], label=b )\n",
    "        xPos+=.3\n",
    "    xPos+=.2\n",
    "xlim([.7,4.1])\n",
    "xticks([1.3,2.4,3.5], conds, fontsize=16)\n",
    "ylabel('Train Det Looks', fontsize=14)\n",
    "yticks(fontsize=14)\n",
    "blocks[0] = 'block 1'\n",
    "legend(blocks, loc=3, ncol=3, fontsize=10)\n",
    "\n",
    "\n",
    "\n",
    "saveFile = imFolder + 'trainDetLook.png'\n",
    "savefig(saveFile, bbox_inches='tight')"
   ]
  },
  {
   "cell_type": "code",
   "execution_count": 37,
   "metadata": {
    "collapsed": false
   },
   "outputs": [
    {
     "data": {
      "image/png": "[encoded data removed]",
      "text/plain": [
       "<matplotlib.figure.Figure at 0x10a4d8ed0>"
      ]
     },
     "metadata": {},
     "output_type": "display_data"
    }
   ],
   "source": [
    "# show train prop det looking\n",
    "\n",
    "figure(figsize=(5,2))\n",
    "\n",
    "conds = ['Common', 'Silent','Unique']\n",
    "blocks =  [1,2,3]\n",
    "\n",
    "colors = dict(zip(blocks, ['gray','red', 'black']))\n",
    "w = .3\n",
    "xPos = 1\n",
    "for c in conds:\n",
    "    for b in blocks:\n",
    "        RTEstimate = trainMean[(trainMean.cond == c) &(trainMean.block==b)].trgNFix\n",
    "        bar(xPos, mean(RTEstimate), width=w, align='center', yerr=np.std(RTEstimate)/np.sqrt(len(RTEstimate)), color=colors[b], label=b )\n",
    "        xPos+=.3\n",
    "    xPos+=.2\n",
    "xlim([.7,4.1])\n",
    "xticks([1.3,2.4,3.5], conds, fontsize=16)\n",
    "ylabel('Train Fix Count', fontsize=14)\n",
    "yticks(fontsize=14)\n",
    "blocks[0] = 'block 1'\n",
    "legend(blocks, loc=3, ncol=3, fontsize=10)\n",
    "\n",
    "\n",
    "\n",
    "saveFile = imFolder + 'trainNFix.png'\n",
    "savefig(saveFile, bbox_inches='tight')"
   ]
  },
  {
   "cell_type": "code",
   "execution_count": 38,
   "metadata": {
    "collapsed": false
   },
   "outputs": [
    {
     "data": {
      "image/png": "[encoded data removed]",
      "text/plain": [
       "<matplotlib.figure.Figure at 0x10c6e4c10>"
      ]
     },
     "metadata": {},
     "output_type": "display_data"
    }
   ],
   "source": [
    "# get train averages by condition and block\n",
    "train = df[df['type'] == 'Train']\n",
    "trainMean = train.groupby(['subid', 'cond']).mean().reset_index()\n",
    "\n",
    "figure(figsize=(5,2))\n",
    "\n",
    "conds = ['Common', 'Silent','Unique']\n",
    "blocks =  [1,2,3]\n",
    "colors = dict(zip(blocks, ['gray','red', 'black']))\n",
    "w = .8\n",
    "xPos = 1\n",
    "for c in conds:\n",
    "#     for b in blocks:\n",
    "    RTEstimate = trainMean[(trainMean.cond == c) ].trgLatRelFix\n",
    "    bar(xPos, mean(RTEstimate), width=w, align='center', yerr=np.std(RTEstimate)/np.sqrt(len(RTEstimate)), color='red', label=b )\n",
    "    xPos+=1\n",
    "#     xPos+=.2\n",
    "xlim([.5,3.5])\n",
    "xticks([1,2,3], conds, fontsize=16)\n",
    "ylabel('Fix Latency (ms)', fontsize=14)\n",
    "yticks(fontsize=14)\n",
    "blocks[0] = 'block 1'\n",
    "# legend(blocks, loc=3, ncol=3, fontsize=10)\n",
    "\n",
    "\n",
    "\n",
    "saveFile = imFolder + 'latDetFix.png'\n",
    "savefig(saveFile, bbox_inches='tight')"
   ]
  },
  {
   "cell_type": "code",
   "execution_count": 39,
   "metadata": {
    "collapsed": false
   },
   "outputs": [
    {
     "data": {
      "text/plain": [
       "Index([u'KEYPRESS', u'RESPONSE', u'RTEstimate', u'TRAIL_INDEX', u'auditory',\n",
       "       u'block', u'cond', u'correct_response', u'logRT', u'subid',\n",
       "       u'trgFirstFixRel', u'trgLatFix', u'trgLatRelFix', u'trgMDur',\n",
       "       u'trgMpup', u'trgNFix', u'trgNSac', u'trgRelProp', u'trgSAmp',\n",
       "       u'trialTime', u'trialtype', u'type', u'visual', u'warningBeepOn'],\n",
       "      dtype='object')"
      ]
     },
     "execution_count": 39,
     "metadata": {},
     "output_type": "execute_result"
    }
   ],
   "source": [
    "train.columns"
   ]
  },
  {
   "cell_type": "code",
   "execution_count": null,
   "metadata": {
    "collapsed": true
   },
   "outputs": [],
   "source": []
  }
 ],
 "metadata": {
  "kernelspec": {
   "display_name": "Python 2",
   "language": "python",
   "name": "python2"
  },
  "language_info": {
   "codemirror_mode": {
    "name": "ipython",
    "version": 2
   },
   "file_extension": ".py",
   "mimetype": "text/x-python",
   "name": "python",
   "nbconvert_exporter": "python",
   "pygments_lexer": "ipython2",
   "version": "2.7.11"
  }
 },
 "nbformat": 4,
 "nbformat_minor": 0
}
