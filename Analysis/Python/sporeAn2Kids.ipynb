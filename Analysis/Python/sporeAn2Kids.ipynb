{
 "cells": [
  {
   "cell_type": "code",
   "execution_count": 1,
   "metadata": {
    "collapsed": false
   },
   "outputs": [
    {
     "name": "stdout",
     "output_type": "stream",
     "text": [
      "Populating the interactive namespace from numpy and matplotlib\n"
     ]
    }
   ],
   "source": [
    "import pandas as pd\n",
    "import numpy as np\n",
    "import os\n",
    "\n",
    "%pylab inline"
   ]
  },
  {
   "cell_type": "code",
   "execution_count": 2,
   "metadata": {
    "collapsed": false,
    "scrolled": true
   },
   "outputs": [],
   "source": [
    "\n",
    "# load up training and test data, combine into one dataFrame\n",
    "\n",
    "# following are latest up to date\n",
    "dfTrain = pd.read_csv( 'SporeTrainByTrialKids.txt', sep='\\t')\n",
    "dfTest =  pd.read_csv( 'SporeTestByTrialKids.txt', sep='\\t')\n",
    "\n",
    "df = pd.concat([dfTrain, dfTest], ignore_index=True, axis=0)\n",
    "df.to_csv( 'sporeDataByTrialCombinedKids.txt', sep='\\t', index=False)\n",
    "\n",
    "\n",
    "\n"
   ]
  },
  {
   "cell_type": "code",
   "execution_count": 3,
   "metadata": {
    "collapsed": false
   },
   "outputs": [],
   "source": [
    "# # keep only cogsci data\n",
    "# df.subid.unique()\n",
    "# df = df[df.subid.apply( lambda x: int(x.strip('t'))) <= 20 ]\n",
    "# df.subid.unique()"
   ]
  },
  {
   "cell_type": "code",
   "execution_count": 4,
   "metadata": {
    "collapsed": false
   },
   "outputs": [
    {
     "data": {
      "text/plain": [
       "<matplotlib.axes._subplots.AxesSubplot at 0x10fa46d50>"
      ]
     },
     "execution_count": 4,
     "metadata": {},
     "output_type": "execute_result"
    },
    {
     "data": {
      "image/png": "[encoded data removed]",
      "text/plain": [
       "<matplotlib.figure.Figure at 0x10e1826d0>"
      ]
     },
     "metadata": {},
     "output_type": "display_data"
    },
    {
     "data": {
      "image/png": "[encoded data removed]",
      "text/plain": [
       "<matplotlib.figure.Figure at 0x10e182690>"
      ]
     },
     "metadata": {},
     "output_type": "display_data"
    }
   ],
   "source": [
    "# show RT histograms (both standard and log transformed)\n",
    "df.RTEstimate.hist(bins=1000)\n",
    "figure()\n",
    "df.logRT.hist(bins=1000)\n",
    "\n",
    "\n"
   ]
  },
  {
   "cell_type": "code",
   "execution_count": 5,
   "metadata": {
    "collapsed": false
   },
   "outputs": [
    {
     "name": "stdout",
     "output_type": "stream",
     "text": [
      "[10 11 12 13 14 15 16 20 21 22 24 25 27 28 29]\n",
      "15 participants\n",
      "Index([u'KEYPRESS', u'RESPONSE', u'RTEstimate', u'TRAIL_INDEX', u'auditory',\n",
      "       u'block', u'cond', u'correct_response', u'logRT', u'subid',\n",
      "       u'trgFirstFixRel', u'trgLatFix', u'trgLatRelFix', u'trgMDur',\n",
      "       u'trgMpup', u'trgNFix', u'trgNSac', u'trgRelProp', u'trgSAmp',\n",
      "       u'trialTime', u'trialtype', u'type', u'visual', u'warningBeepOn'],\n",
      "      dtype='object')\n"
     ]
    }
   ],
   "source": [
    "print df.subid.unique()\n",
    "print('%d participants'%( len(df.subid.unique())) ) \n",
    "\n",
    "print df.columns"
   ]
  },
  {
   "cell_type": "code",
   "execution_count": 6,
   "metadata": {
    "collapsed": false
   },
   "outputs": [],
   "source": [
    "\n",
    "# df.ix[df.subid== '5','acc']"
   ]
  },
  {
   "cell_type": "code",
   "execution_count": 7,
   "metadata": {
    "collapsed": false
   },
   "outputs": [
    {
     "name": "stderr",
     "output_type": "stream",
     "text": [
      "/usr/local/lib/python2.7/site-packages/ipykernel/__main__.py:4: SettingWithCopyWarning: \n",
      "A value is trying to be set on a copy of a slice from a DataFrame.\n",
      "Try using .loc[row_indexer,col_indexer] = value instead\n",
      "\n",
      "See the caveats in the documentation: http://pandas.pydata.org/pandas-docs/stable/indexing.html#indexing-view-versus-copy\n",
      "/usr/local/lib/python2.7/site-packages/pandas/core/ops.py:714: FutureWarning: elementwise comparison failed; returning scalar instead, but in the future will perform elementwise comparison\n",
      "  result = getattr(x, name)(y)\n"
     ]
    },
    {
     "ename": "TypeError",
     "evalue": "invalid type comparison",
     "output_type": "error",
     "traceback": [
      "\u001b[0;31m---------------------------------------------------------------------------\u001b[0m",
      "\u001b[0;31mTypeError\u001b[0m                                 Traceback (most recent call last)",
      "\u001b[0;32m<ipython-input-7-19c6db629d70>\u001b[0m in \u001b[0;36m<module>\u001b[0;34m()\u001b[0m\n\u001b[1;32m      3\u001b[0m \u001b[0mtest\u001b[0m \u001b[0;34m=\u001b[0m \u001b[0mdf\u001b[0m\u001b[0;34m[\u001b[0m\u001b[0mdf\u001b[0m\u001b[0;34m[\u001b[0m\u001b[0;34m'type'\u001b[0m\u001b[0;34m]\u001b[0m \u001b[0;34m==\u001b[0m \u001b[0;34m'Test'\u001b[0m\u001b[0;34m]\u001b[0m\u001b[0;34m\u001b[0m\u001b[0m\n\u001b[1;32m      4\u001b[0m \u001b[0mtest\u001b[0m\u001b[0;34m[\u001b[0m\u001b[0;34m'acc'\u001b[0m\u001b[0;34m]\u001b[0m \u001b[0;34m=\u001b[0m \u001b[0mtest\u001b[0m\u001b[0;34m.\u001b[0m\u001b[0mRESPONSE\u001b[0m\u001b[0;34m.\u001b[0m\u001b[0mapply\u001b[0m\u001b[0;34m(\u001b[0m \u001b[0;32mlambda\u001b[0m\u001b[0;34m(\u001b[0m\u001b[0mx\u001b[0m\u001b[0;34m)\u001b[0m\u001b[0;34m:\u001b[0m \u001b[0;36m1\u001b[0m \u001b[0;32mif\u001b[0m \u001b[0mx\u001b[0m\u001b[0;34m==\u001b[0m\u001b[0;34m'Correct'\u001b[0m \u001b[0;32melse\u001b[0m \u001b[0;36m0\u001b[0m\u001b[0;34m)\u001b[0m\u001b[0;34m\u001b[0m\u001b[0m\n\u001b[0;32m----> 5\u001b[0;31m \u001b[0mtest\u001b[0m\u001b[0;34m.\u001b[0m\u001b[0mix\u001b[0m\u001b[0;34m[\u001b[0m\u001b[0mtest\u001b[0m\u001b[0;34m.\u001b[0m\u001b[0msubid\u001b[0m\u001b[0;34m==\u001b[0m \u001b[0;34m'5'\u001b[0m\u001b[0;34m,\u001b[0m\u001b[0;34m'acc'\u001b[0m\u001b[0;34m]\u001b[0m \u001b[0;34m=\u001b[0m \u001b[0;36m1\u001b[0m \u001b[0;34m-\u001b[0m \u001b[0mtest\u001b[0m\u001b[0;34m.\u001b[0m\u001b[0mix\u001b[0m\u001b[0;34m[\u001b[0m\u001b[0mtest\u001b[0m\u001b[0;34m.\u001b[0m\u001b[0msubid\u001b[0m\u001b[0;34m==\u001b[0m \u001b[0;34m'5'\u001b[0m\u001b[0;34m,\u001b[0m\u001b[0;34m'acc'\u001b[0m\u001b[0;34m]\u001b[0m\u001b[0;34m\u001b[0m\u001b[0m\n\u001b[0m\u001b[1;32m      6\u001b[0m \u001b[0;34m\u001b[0m\u001b[0m\n\u001b[1;32m      7\u001b[0m \u001b[0;31m# get test averages by participant and condition\u001b[0m\u001b[0;34m\u001b[0m\u001b[0;34m\u001b[0m\u001b[0m\n",
      "\u001b[0;32m/usr/local/lib/python2.7/site-packages/pandas/core/ops.pyc\u001b[0m in \u001b[0;36mwrapper\u001b[0;34m(self, other, axis)\u001b[0m\n\u001b[1;32m    759\u001b[0m                 \u001b[0mother\u001b[0m \u001b[0;34m=\u001b[0m \u001b[0mnp\u001b[0m\u001b[0;34m.\u001b[0m\u001b[0masarray\u001b[0m\u001b[0;34m(\u001b[0m\u001b[0mother\u001b[0m\u001b[0;34m)\u001b[0m\u001b[0;34m\u001b[0m\u001b[0m\n\u001b[1;32m    760\u001b[0m \u001b[0;34m\u001b[0m\u001b[0m\n\u001b[0;32m--> 761\u001b[0;31m             \u001b[0mres\u001b[0m \u001b[0;34m=\u001b[0m \u001b[0mna_op\u001b[0m\u001b[0;34m(\u001b[0m\u001b[0mvalues\u001b[0m\u001b[0;34m,\u001b[0m \u001b[0mother\u001b[0m\u001b[0;34m)\u001b[0m\u001b[0;34m\u001b[0m\u001b[0m\n\u001b[0m\u001b[1;32m    762\u001b[0m             \u001b[0;32mif\u001b[0m \u001b[0misscalar\u001b[0m\u001b[0;34m(\u001b[0m\u001b[0mres\u001b[0m\u001b[0;34m)\u001b[0m\u001b[0;34m:\u001b[0m\u001b[0;34m\u001b[0m\u001b[0m\n\u001b[1;32m    763\u001b[0m                 raise TypeError('Could not compare %s type with Series' %\n",
      "\u001b[0;32m/usr/local/lib/python2.7/site-packages/pandas/core/ops.pyc\u001b[0m in \u001b[0;36mna_op\u001b[0;34m(x, y)\u001b[0m\n\u001b[1;32m    714\u001b[0m                 \u001b[0mresult\u001b[0m \u001b[0;34m=\u001b[0m \u001b[0mgetattr\u001b[0m\u001b[0;34m(\u001b[0m\u001b[0mx\u001b[0m\u001b[0;34m,\u001b[0m \u001b[0mname\u001b[0m\u001b[0;34m)\u001b[0m\u001b[0;34m(\u001b[0m\u001b[0my\u001b[0m\u001b[0;34m)\u001b[0m\u001b[0;34m\u001b[0m\u001b[0m\n\u001b[1;32m    715\u001b[0m                 \u001b[0;32mif\u001b[0m \u001b[0mresult\u001b[0m \u001b[0;32mis\u001b[0m \u001b[0mNotImplemented\u001b[0m\u001b[0;34m:\u001b[0m\u001b[0;34m\u001b[0m\u001b[0m\n\u001b[0;32m--> 716\u001b[0;31m                     \u001b[0;32mraise\u001b[0m \u001b[0mTypeError\u001b[0m\u001b[0;34m(\u001b[0m\u001b[0;34m\"invalid type comparison\"\u001b[0m\u001b[0;34m)\u001b[0m\u001b[0;34m\u001b[0m\u001b[0m\n\u001b[0m\u001b[1;32m    717\u001b[0m             \u001b[0;32mexcept\u001b[0m \u001b[0mAttributeError\u001b[0m\u001b[0;34m:\u001b[0m\u001b[0;34m\u001b[0m\u001b[0m\n\u001b[1;32m    718\u001b[0m                 \u001b[0mresult\u001b[0m \u001b[0;34m=\u001b[0m \u001b[0mop\u001b[0m\u001b[0;34m(\u001b[0m\u001b[0mx\u001b[0m\u001b[0;34m,\u001b[0m \u001b[0my\u001b[0m\u001b[0;34m)\u001b[0m\u001b[0;34m\u001b[0m\u001b[0m\n",
      "\u001b[0;31mTypeError\u001b[0m: invalid type comparison"
     ]
    }
   ],
   "source": [
    "# Get test\n",
    "# add accuracy column.  \n",
    "test = df[df['type'] == 'Test']\n",
    "test['acc'] = test.RESPONSE.apply( lambda(x): 1 if x=='Correct' else 0)\n",
    "\n",
    "# # Invert accuracy of participant 5, who inverted responding\n",
    "# test.ix[test.subid== '5','acc'] = 1 - test.ix[test.subid== '5','acc']\n",
    "\n",
    "# get test averages by participant and condition\n",
    "testMean = test.groupby(['subid', 'trialtype','cond']).mean().reset_index()\n",
    "testMean.columns"
   ]
  },
  {
   "cell_type": "code",
   "execution_count": null,
   "metadata": {
    "collapsed": false
   },
   "outputs": [],
   "source": [
    "# Plot accuracy by condition (implied at test)\n",
    "figure(figsize=(5,2))\n",
    "\n",
    "conds = ['Common', 'Silent','Unique']\n",
    "tests =  ['Old','Lures']\n",
    "\n",
    "colors = dict(zip(tests, ['gray','red']))\n",
    "w = .5\n",
    "xPos = 1\n",
    "for c in conds:\n",
    "    for t in tests:\n",
    "        acc = testMean[(testMean.trialtype == c) &(testMean.cond==t)].acc\n",
    "        bar(xPos, mean(acc), width=w, align='center', yerr=np.std(acc)/np.sqrt(len(acc)), \n",
    "            color=colors[t], label=t, ecolor='black', capsize=5  )\n",
    "        xPos+=.5\n",
    "    xPos+=.2\n",
    "xlim([.5,4.4])\n",
    "xticks([1.3,2.5,3.7], conds, fontsize=16)\n",
    "ylabel('Accuracy', fontsize=14)\n",
    "yticks(fontsize=14)\n",
    "legend(tests, loc=4)\n",
    "\n",
    "\n",
    "\n",
    "imFolder = 'CtrBalancedImgsKids/' #../../../Papers/CogSci2016_Spore/Images/'  \n",
    "if not os.path.exists(imFolder):\n",
    "    os.mkdir(imFolder)\n",
    "\n",
    "saveFile = imFolder + 'accuracy.png'\n",
    "savefig(saveFile, bbox_inches='tight')"
   ]
  },
  {
   "cell_type": "code",
   "execution_count": null,
   "metadata": {
    "collapsed": false
   },
   "outputs": [],
   "source": [
    "# Plot Rxn time by condition on Test, only accurate trials\n",
    "\n",
    "testOnlyAcc = test[test.acc == 1]\n",
    "testMeanAcc = testOnlyAcc.groupby(['subid', 'trialtype','cond']).mean().reset_index()\n",
    "\n",
    "figure(figsize=(5,2))\n",
    "\n",
    "conds = ['Common', 'Silent','Unique']\n",
    "tests =  ['Old','Lures']\n",
    "\n",
    "colors = dict(zip(tests, ['gray','red']))\n",
    "w = .5\n",
    "xPos = 1\n",
    "for c in conds:\n",
    "    for t in tests:\n",
    "        RTEstimate = testMeanAcc[(testMeanAcc.trialtype == c) &(testMeanAcc.cond==t)].RTEstimate\n",
    "        bar(xPos, mean(RTEstimate), width=w, align='center', yerr=np.std(RTEstimate)/np.sqrt(len(RTEstimate)), \n",
    "            color=colors[t], label=t, ecolor='black', capsize=5  )\n",
    "        xPos+=.5\n",
    "    xPos+=.2\n",
    "xlim([.5,4.4])\n",
    "xticks([1.3,2.5,3.7], conds, fontsize=16)\n",
    "ylabel('Test RT (ms)', fontsize=14)\n",
    "yticks(fontsize=14)\n",
    "legend(tests, loc=4)\n",
    "\n",
    "\n",
    "\n",
    "saveFile = imFolder + 'testRxnTime.png'\n",
    "savefig(saveFile, bbox_inches='tight')"
   ]
  },
  {
   "cell_type": "code",
   "execution_count": null,
   "metadata": {
    "collapsed": false
   },
   "outputs": [],
   "source": [
    "# Plot prop deterministic looking on Test\n",
    "figure(figsize=(5,2))\n",
    "\n",
    "conds = ['Common', 'Silent','Unique']\n",
    "tests =  ['Old','Lures']\n",
    "\n",
    "colors = dict(zip(tests, ['gray','red']))\n",
    "w = .5\n",
    "xPos = 1\n",
    "for c in conds:\n",
    "    for t in tests:\n",
    "        acc = testMean[(testMean.trialtype == c) &(testMean.cond==t)].trgRelProp\n",
    "        bar(xPos, mean(acc), width=w, align='center', yerr=np.std(acc)/np.sqrt(len(acc)), \n",
    "            color=colors[t], label=t, ecolor='black', capsize=5  )\n",
    "        xPos+=.5\n",
    "    xPos+=.2\n",
    "xlim([.5,4.4])\n",
    "xticks([1.3,2.5,3.7], conds, fontsize=16)\n",
    "ylabel('Test Det Looks', fontsize=14)\n",
    "yticks(fontsize=14)\n",
    "legend(tests, loc=1)\n",
    "\n",
    "\n",
    "saveFile = imFolder + 'testDetLook.png'\n",
    "savefig(saveFile, bbox_inches='tight')"
   ]
  },
  {
   "cell_type": "code",
   "execution_count": null,
   "metadata": {
    "collapsed": false
   },
   "outputs": [],
   "source": [
    "# Plot number fixations on Test\n",
    "figure(figsize=(5,2))\n",
    "\n",
    "conds = ['Common', 'Silent','Unique']\n",
    "tests =  ['Old','Lures']\n",
    "\n",
    "colors = dict(zip(tests, ['gray','red']))\n",
    "w = .5\n",
    "xPos = 1\n",
    "for c in conds:\n",
    "    for t in tests:\n",
    "        acc = testMean[(testMean.trialtype == c) &(testMean.cond==t)].trgNFix\n",
    "        bar(xPos, mean(acc), width=w, align='center', yerr=np.std(acc)/np.sqrt(len(acc)), \n",
    "            color=colors[t], label=t, ecolor='black', capsize=5  )\n",
    "        xPos+=.5\n",
    "    xPos+=.2\n",
    "xlim([.5,4.4])\n",
    "xticks([1.3,2.5,3.7], conds, fontsize=16)\n",
    "ylabel('Test Fix Count', fontsize=14)\n",
    "yticks(fontsize=14)\n",
    "legend(tests, loc=4)\n",
    "\n",
    "\n",
    "saveFile = imFolder + 'testNFix.png'\n",
    "savefig(saveFile, bbox_inches='tight')"
   ]
  },
  {
   "cell_type": "code",
   "execution_count": null,
   "metadata": {
    "collapsed": false
   },
   "outputs": [],
   "source": [
    "#show train study time (RT)\n",
    "\n",
    "# get train averages by condition and block\n",
    "train = df[df['type'] == 'Train']\n",
    "trainMean = train.groupby(['subid', 'block', 'cond']).mean().reset_index()\n",
    "\n",
    "figure(figsize=(5,2))\n",
    "\n",
    "conds = ['Common', 'Silent','Unique']\n",
    "blocks =  [1,2,3]\n",
    "\n",
    "colors = dict(zip(blocks, ['gray','red', 'orange']))\n",
    "w = .3\n",
    "xPos = 1\n",
    "for c in conds:\n",
    "    for b in blocks:\n",
    "        RTEstimate = trainMean[(trainMean.cond == c) &(trainMean.block==b)].RTEstimate\n",
    "        bar(xPos, mean(RTEstimate), width=w, align='center', yerr=np.std(RTEstimate)/np.sqrt(len(RTEstimate)), \n",
    "            color=colors[b], label=b, ecolor='black', capsize=5  )\n",
    "        xPos+=.3\n",
    "    xPos+=.2\n",
    "xlim([.7,4.1])\n",
    "xticks([1.3,2.4,3.5], conds, fontsize=16)\n",
    "ylabel('Train RT (ms)', fontsize=14)\n",
    "yticks(fontsize=14)\n",
    "blocks[0] = 'block 1'\n",
    "legend(blocks, loc=3, ncol=3, fontsize=10)\n",
    "\n",
    "\n",
    "\n",
    "saveFile = imFolder + 'trainRxnTime.png'\n",
    "savefig(saveFile, bbox_inches='tight')"
   ]
  },
  {
   "cell_type": "code",
   "execution_count": null,
   "metadata": {
    "collapsed": false
   },
   "outputs": [],
   "source": [
    "# show train prop det looking\n",
    "\n",
    "figure(figsize=(5,2))\n",
    "\n",
    "conds = ['Common', 'Silent','Unique']\n",
    "blocks =  [1,2,3]\n",
    "\n",
    "colors = dict(zip(blocks, ['gray','red', 'orange']))\n",
    "w = .3\n",
    "xPos = 1\n",
    "for c in conds:\n",
    "    for b in blocks:\n",
    "        RTEstimate = trainMean[(trainMean.cond == c) &(trainMean.block==b)].trgRelProp\n",
    "        bar(xPos, mean(RTEstimate), width=w, align='center', yerr=np.std(RTEstimate)/np.sqrt(len(RTEstimate)), \n",
    "            color=colors[b], label=b, ecolor='black', capsize=5  )\n",
    "        xPos+=.3\n",
    "    xPos+=.2\n",
    "xlim([.7,4.1])\n",
    "xticks([1.3,2.4,3.5], conds, fontsize=16)\n",
    "ylabel('Train Det Looks', fontsize=14)\n",
    "yticks(fontsize=14)\n",
    "blocks[0] = 'block 1'\n",
    "legend(blocks, loc=3, ncol=3, fontsize=10)\n",
    "\n",
    "\n",
    "\n",
    "saveFile = imFolder + 'trainDetLook.png'\n",
    "savefig(saveFile, bbox_inches='tight')"
   ]
  },
  {
   "cell_type": "code",
   "execution_count": null,
   "metadata": {
    "collapsed": false
   },
   "outputs": [],
   "source": [
    "# show train prop det looking\n",
    "\n",
    "figure(figsize=(5,2))\n",
    "\n",
    "conds = ['Common', 'Silent','Unique']\n",
    "blocks =  [1,2,3]\n",
    "\n",
    "colors = dict(zip(blocks, ['gray','red', 'orange']))\n",
    "w = .3\n",
    "xPos = 1\n",
    "for c in conds:\n",
    "    for b in blocks:\n",
    "        RTEstimate = trainMean[(trainMean.cond == c) &(trainMean.block==b)].trgNFix\n",
    "        bar(xPos, mean(RTEstimate), width=w, align='center', yerr=np.std(RTEstimate)/np.sqrt(len(RTEstimate)), \n",
    "            color=colors[b], label=b, ecolor='black', capsize=5  )\n",
    "        xPos+=.3\n",
    "    xPos+=.2\n",
    "xlim([.7,4.1])\n",
    "xticks([1.3,2.4,3.5], conds, fontsize=16)\n",
    "ylabel('Train Fix Count', fontsize=14)\n",
    "yticks(fontsize=14)\n",
    "blocks[0] = 'block 1'\n",
    "legend(blocks, loc=3, ncol=3, fontsize=10)\n",
    "\n",
    "\n",
    "\n",
    "saveFile = imFolder + 'trainNFix.png'\n",
    "savefig(saveFile, bbox_inches='tight')"
   ]
  },
  {
   "cell_type": "code",
   "execution_count": null,
   "metadata": {
    "collapsed": false
   },
   "outputs": [],
   "source": [
    "# get train averages by condition and block\n",
    "train = df[df['type'] == 'Train']\n",
    "trainMean = train.groupby(['subid', 'cond']).mean().reset_index()\n",
    "\n",
    "figure(figsize=(5,2))\n",
    "\n",
    "conds = ['Common', 'Silent','Unique']\n",
    "blocks =  [1,2,3]\n",
    "colors = dict(zip(blocks, ['gray','red', 'black']))\n",
    "w = .8\n",
    "xPos = 1\n",
    "for c in conds:\n",
    "#     for b in blocks:\n",
    "    RTEstimate = trainMean[(trainMean.cond == c) ].trgLatRelFix\n",
    "    bar(xPos, mean(RTEstimate), width=w, align='center', yerr=np.std(RTEstimate)/np.sqrt(len(RTEstimate)), \n",
    "        color='red', label=b, ecolor='black', capsize=5  )\n",
    "    xPos+=1\n",
    "#     xPos+=.2\n",
    "xlim([.5,3.5])\n",
    "xticks([1,2,3], conds, fontsize=16)\n",
    "ylabel('Fix Latency (ms)', fontsize=14)\n",
    "yticks(fontsize=14)\n",
    "blocks[0] = 'block 1'\n",
    "# legend(blocks, loc=3, ncol=3, fontsize=10)\n",
    "\n",
    "\n",
    "\n",
    "saveFile = imFolder + 'latDetFix.png'\n",
    "savefig(saveFile, bbox_inches='tight')"
   ]
  },
  {
   "cell_type": "code",
   "execution_count": null,
   "metadata": {
    "collapsed": false
   },
   "outputs": [],
   "source": [
    "train.columns"
   ]
  },
  {
   "cell_type": "code",
   "execution_count": null,
   "metadata": {
    "collapsed": true
   },
   "outputs": [],
   "source": []
  },
  {
   "cell_type": "code",
   "execution_count": null,
   "metadata": {
    "collapsed": true
   },
   "outputs": [],
   "source": []
  },
  {
   "cell_type": "code",
   "execution_count": null,
   "metadata": {
    "collapsed": true
   },
   "outputs": [],
   "source": []
  },
  {
   "cell_type": "code",
   "execution_count": null,
   "metadata": {
    "collapsed": true
   },
   "outputs": [],
   "source": []
  },
  {
   "cell_type": "code",
   "execution_count": null,
   "metadata": {
    "collapsed": true
   },
   "outputs": [],
   "source": []
  },
  {
   "cell_type": "code",
   "execution_count": null,
   "metadata": {
    "collapsed": true
   },
   "outputs": [],
   "source": []
  }
 ],
 "metadata": {
  "kernelspec": {
   "display_name": "Python 2",
   "language": "python",
   "name": "python2"
  },
  "language_info": {
   "codemirror_mode": {
    "name": "ipython",
    "version": 2
   },
   "file_extension": ".py",
   "mimetype": "text/x-python",
   "name": "python",
   "nbconvert_exporter": "python",
   "pygments_lexer": "ipython2",
   "version": "2.7.11"
  }
 },
 "nbformat": 4,
 "nbformat_minor": 0
}
