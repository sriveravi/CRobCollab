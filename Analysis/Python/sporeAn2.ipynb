{
 "cells": [
  {
   "cell_type": "code",
   "execution_count": 1,
   "metadata": {},
   "outputs": [
    {
     "name": "stdout",
     "output_type": "stream",
     "text": [
      "Populating the interactive namespace from numpy and matplotlib\n"
     ]
    }
   ],
   "source": [
    "import pandas as pd\n",
    "import numpy as np\n",
    "import os\n",
    "\n",
    "%pylab inline"
   ]
  },
  {
   "cell_type": "code",
   "execution_count": 2,
   "metadata": {
    "scrolled": true
   },
   "outputs": [],
   "source": [
    "\n",
    "# load up training and test data, combine into one dataFrame\n",
    "\n",
    "# following are latest up to date\n",
    "dfTrain = pd.read_csv( 'SporeTrainByTrialNewAdult.txt', sep='\\t')\n",
    "dfTest =  pd.read_csv( 'SporeTestByTrialNewAdult.txt', sep='\\t')\n",
    "\n",
    "df = pd.concat([dfTrain, dfTest], ignore_index=True, axis=0)\n",
    "df.to_csv( 'sporeDataByTrialCombinedNewAdult.txt', sep='\\t', index=False)\n",
    "\n",
    "# define figure folder\n",
    "imFolder =  'NewAdultSpore' # 'CtrBalancedImgs/' #../../../Papers/CogSci2016_Spore/Images/'  \n",
    "if not os.path.exists(imFolder):\n",
    "    os.mkdir(imFolder)\n"
   ]
  },
  {
   "cell_type": "code",
   "execution_count": 3,
   "metadata": {},
   "outputs": [],
   "source": [
    "# # keep only cogsci data\n",
    "# df.subid.unique()\n",
    "# df = df[df.subid.apply( lambda x: int(x.strip('t'))) <= 20 ]\n",
    "# df.subid.unique()"
   ]
  },
  {
   "cell_type": "code",
   "execution_count": 4,
   "metadata": {},
   "outputs": [
    {
     "data": {
      "text/plain": [
       "<matplotlib.axes._subplots.AxesSubplot at 0x108f21c50>"
      ]
     },
     "execution_count": 4,
     "metadata": {},
     "output_type": "execute_result"
    },
    {
     "data": {
      "image/png": "[encoded data removed]",
      "text/plain": [
       "<matplotlib.figure.Figure at 0x107633190>"
      ]
     },
     "metadata": {},
     "output_type": "display_data"
    },
    {
     "data": {
      "image/png": "[encoded data removed]",
      "text/plain": [
       "<matplotlib.figure.Figure at 0x1076332d0>"
      ]
     },
     "metadata": {},
     "output_type": "display_data"
    }
   ],
   "source": [
    "# show RT histograms (both standard and log transformed)\n",
    "df.RTEstimate.hist(bins=1000)\n",
    "figure()\n",
    "df.logRT.hist(bins=1000)\n",
    "\n",
    "\n"
   ]
  },
  {
   "cell_type": "code",
   "execution_count": 5,
   "metadata": {},
   "outputs": [
    {
     "name": "stdout",
     "output_type": "stream",
     "text": [
      "['1' '10' '11' '12' '14' '15' '16' '17' '18' '19' '2' '20' '21' '22' '23'\n",
      " '24' '25' '4' '5' '6' '7' '8t' '9']\n",
      "23 participants\n",
      "Index([u'KEYPRESS', u'RESPONSE', u'RTEstimate', u'TRAIL_INDEX', u'auditory',\n",
      "       u'block', u'cond', u'correct_response', u'logRT', u'subid',\n",
      "       u'trgFirstFixRel', u'trgLatFix', u'trgLatRelFix', u'trgMDur',\n",
      "       u'trgMpup', u'trgNFix', u'trgNSac', u'trgRelProp', u'trgSAmp',\n",
      "       u'trialTime', u'trialtype', u'type', u'visual', u'warningBeepOn'],\n",
      "      dtype='object')\n"
     ]
    }
   ],
   "source": [
    "print df.subid.unique()\n",
    "print('%d participants'%( len(df.subid.unique())) ) \n",
    "\n",
    "print df.columns"
   ]
  },
  {
   "cell_type": "code",
   "execution_count": 6,
   "metadata": {},
   "outputs": [],
   "source": [
    "\n",
    "# df.ix[df.subid== '5','acc']"
   ]
  },
  {
   "cell_type": "code",
   "execution_count": 7,
   "metadata": {},
   "outputs": [
    {
     "name": "stderr",
     "output_type": "stream",
     "text": [
      "/usr/local/lib/python2.7/site-packages/ipykernel_launcher.py:4: SettingWithCopyWarning: \n",
      "A value is trying to be set on a copy of a slice from a DataFrame.\n",
      "Try using .loc[row_indexer,col_indexer] = value instead\n",
      "\n",
      "See the caveats in the documentation: http://pandas.pydata.org/pandas-docs/stable/indexing.html#indexing-view-versus-copy\n",
      "  after removing the cwd from sys.path.\n",
      "/usr/local/lib/python2.7/site-packages/pandas/core/indexing.py:461: SettingWithCopyWarning: \n",
      "A value is trying to be set on a copy of a slice from a DataFrame.\n",
      "Try using .loc[row_indexer,col_indexer] = value instead\n",
      "\n",
      "See the caveats in the documentation: http://pandas.pydata.org/pandas-docs/stable/indexing.html#indexing-view-versus-copy\n",
      "  self.obj[item] = s\n"
     ]
    },
    {
     "data": {
      "text/plain": [
       "Index([u'subid', u'trialtype', u'cond', u'KEYPRESS', u'RTEstimate',\n",
       "       u'TRAIL_INDEX', u'block', u'correct_response', u'logRT', u'trgLatFix',\n",
       "       u'trgLatRelFix', u'trgMDur', u'trgMpup', u'trgNFix', u'trgNSac',\n",
       "       u'trgRelProp', u'trgSAmp', u'trialTime', u'warningBeepOn', u'acc'],\n",
       "      dtype='object')"
      ]
     },
     "execution_count": 7,
     "metadata": {},
     "output_type": "execute_result"
    }
   ],
   "source": [
    "# Get test\n",
    "# add accuracy column.  Invert accuracy of participant 5, who inverted responding\n",
    "test = df[df['type'] == 'Test']\n",
    "test['acc'] = test.RESPONSE.apply( lambda(x): 1 if x=='Correct' else 0)\n",
    "test.ix[test.subid== '5','acc'] = 1 - test.ix[test.subid== '5','acc']\n",
    "\n",
    "# get test averages by participant and condition\n",
    "testMean = test.groupby(['subid', 'trialtype','cond']).mean().reset_index()\n",
    "testMean.columns"
   ]
  },
  {
   "cell_type": "code",
   "execution_count": 8,
   "metadata": {},
   "outputs": [
    {
     "data": {
      "image/png": "[encoded data removed]",
      "text/plain": [
       "<matplotlib.figure.Figure at 0x107959d10>"
      ]
     },
     "metadata": {},
     "output_type": "display_data"
    }
   ],
   "source": [
    "# Plot accuracy by condition (implied at test)\n",
    "figure(figsize=(5,2))\n",
    "\n",
    "conds = ['Common', 'Silent','Unique']\n",
    "tests =  ['Old','Lures']\n",
    "\n",
    "colors = dict(zip(tests, ['gray','red']))\n",
    "w = .5\n",
    "xPos = 1\n",
    "for c in conds:\n",
    "    for t in tests:\n",
    "        acc = testMean[(testMean.trialtype == c) &(testMean.cond==t)].acc\n",
    "        bar(xPos, mean(acc), width=w, align='center', yerr=np.std(acc)/np.sqrt(len(acc)), \n",
    "            color=colors[t], label=t, ecolor='black', capsize=5  )\n",
    "        xPos+=.5\n",
    "    xPos+=.2\n",
    "xlim([.5,4.4])\n",
    "xticks([1.3,2.5,3.7], conds, fontsize=16)\n",
    "ylabel('Accuracy', fontsize=14)\n",
    "yticks(fontsize=14)\n",
    "legend(tests, loc=4)\n",
    "\n",
    "\n",
    "\n",
    "\n",
    "\n",
    "saveFile = imFolder + 'accuracy.png'\n",
    "savefig(saveFile, bbox_inches='tight')"
   ]
  },
  {
   "cell_type": "code",
   "execution_count": 9,
   "metadata": {},
   "outputs": [
    {
     "data": {
      "image/png": "[encoded data removed]",
      "text/plain": [
       "<matplotlib.figure.Figure at 0x10905d750>"
      ]
     },
     "metadata": {},
     "output_type": "display_data"
    }
   ],
   "source": [
    "# Plot Rxn time by condition on Test, only accurate trials\n",
    "\n",
    "testOnlyAcc = test[test.acc == 1]\n",
    "testMeanAcc = testOnlyAcc.groupby(['subid', 'trialtype','cond']).mean().reset_index()\n",
    "\n",
    "figure(figsize=(5,2))\n",
    "\n",
    "conds = ['Common', 'Silent','Unique']\n",
    "tests =  ['Old','Lures']\n",
    "\n",
    "colors = dict(zip(tests, ['gray','red']))\n",
    "w = .5\n",
    "xPos = 1\n",
    "for c in conds:\n",
    "    for t in tests:\n",
    "        RTEstimate = testMeanAcc[(testMeanAcc.trialtype == c) &(testMeanAcc.cond==t)].RTEstimate\n",
    "        bar(xPos, mean(RTEstimate), width=w, align='center', yerr=np.std(RTEstimate)/np.sqrt(len(RTEstimate)), \n",
    "            color=colors[t], label=t, ecolor='black', capsize=5  )\n",
    "        xPos+=.5\n",
    "    xPos+=.2\n",
    "xlim([.5,4.4])\n",
    "xticks([1.3,2.5,3.7], conds, fontsize=16)\n",
    "ylabel('Test RT (ms)', fontsize=14)\n",
    "yticks(fontsize=14)\n",
    "legend(tests, loc=4)\n",
    "\n",
    "\n",
    "\n",
    "saveFile = imFolder + 'testRxnTime.png'\n",
    "savefig(saveFile, bbox_inches='tight')"
   ]
  },
  {
   "cell_type": "code",
   "execution_count": 10,
   "metadata": {},
   "outputs": [
    {
     "data": {
      "image/png": "[encoded data removed]",
      "text/plain": [
       "<matplotlib.figure.Figure at 0x107abb250>"
      ]
     },
     "metadata": {},
     "output_type": "display_data"
    }
   ],
   "source": [
    "# Plot prop deterministic looking on Test\n",
    "figure(figsize=(5,2))\n",
    "\n",
    "conds = ['Common', 'Silent','Unique']\n",
    "tests =  ['Old','Lures']\n",
    "\n",
    "colors = dict(zip(tests, ['gray','red']))\n",
    "w = .5\n",
    "xPos = 1\n",
    "for c in conds:\n",
    "    for t in tests:\n",
    "        acc = testMean[(testMean.trialtype == c) &(testMean.cond==t)].trgRelProp\n",
    "        bar(xPos, mean(acc), width=w, align='center', yerr=np.std(acc)/np.sqrt(len(acc)), \n",
    "            color=colors[t], label=t, ecolor='black', capsize=5  )\n",
    "        xPos+=.5\n",
    "    xPos+=.2\n",
    "xlim([.5,4.4])\n",
    "xticks([1.3,2.5,3.7], conds, fontsize=16)\n",
    "ylabel('Test Det Looks', fontsize=14)\n",
    "yticks(fontsize=14)\n",
    "legend(tests, loc=1)\n",
    "\n",
    "\n",
    "saveFile = imFolder + 'testDetLook.png'\n",
    "savefig(saveFile, bbox_inches='tight')"
   ]
  },
  {
   "cell_type": "code",
   "execution_count": 11,
   "metadata": {},
   "outputs": [
    {
     "data": {
      "image/png": "[encoded data removed]",
      "text/plain": [
       "<matplotlib.figure.Figure at 0x107d29d10>"
      ]
     },
     "metadata": {},
     "output_type": "display_data"
    }
   ],
   "source": [
    "# Plot number fixations on Test\n",
    "figure(figsize=(5,2))\n",
    "\n",
    "conds = ['Common', 'Silent','Unique']\n",
    "tests =  ['Old','Lures']\n",
    "\n",
    "colors = dict(zip(tests, ['gray','red']))\n",
    "w = .5\n",
    "xPos = 1\n",
    "for c in conds:\n",
    "    for t in tests:\n",
    "        acc = testMean[(testMean.trialtype == c) &(testMean.cond==t)].trgNFix\n",
    "        bar(xPos, mean(acc), width=w, align='center', yerr=np.std(acc)/np.sqrt(len(acc)), \n",
    "            color=colors[t], label=t, ecolor='black', capsize=5  )\n",
    "        xPos+=.5\n",
    "    xPos+=.2\n",
    "xlim([.5,4.4])\n",
    "xticks([1.3,2.5,3.7], conds, fontsize=16)\n",
    "ylabel('Test Fix Count', fontsize=14)\n",
    "yticks(fontsize=14)\n",
    "legend(tests, loc=4)\n",
    "\n",
    "\n",
    "saveFile = imFolder + 'testNFix.png'\n",
    "savefig(saveFile, bbox_inches='tight')"
   ]
  },
  {
   "cell_type": "code",
   "execution_count": 12,
   "metadata": {},
   "outputs": [
    {
     "data": {
      "image/png": "[encoded data removed]",
      "text/plain": [
       "<matplotlib.figure.Figure at 0x10a6bbed0>"
      ]
     },
     "metadata": {},
     "output_type": "display_data"
    }
   ],
   "source": [
    "#show train study time (RT)\n",
    "\n",
    "# get train averages by condition and block\n",
    "train = df[df['type'] == 'Train']\n",
    "trainMean = train.groupby(['subid', 'block', 'cond']).mean().reset_index()\n",
    "\n",
    "figure(figsize=(5,2))\n",
    "\n",
    "conds = ['Common', 'Silent','Unique']\n",
    "blocks =  [1,2,3]\n",
    "\n",
    "colors = dict(zip(blocks, ['gray','red', 'orange']))\n",
    "w = .3\n",
    "xPos = 1\n",
    "for c in conds:\n",
    "    for b in blocks:\n",
    "        RTEstimate = trainMean[(trainMean.cond == c) &(trainMean.block==b)].RTEstimate\n",
    "        bar(xPos, mean(RTEstimate), width=w, align='center', yerr=np.std(RTEstimate)/np.sqrt(len(RTEstimate)), \n",
    "            color=colors[b], label=b, ecolor='black', capsize=5  )\n",
    "        xPos+=.3\n",
    "    xPos+=.2\n",
    "xlim([.7,4.1])\n",
    "xticks([1.3,2.4,3.5], conds, fontsize=16)\n",
    "ylabel('Train RT (ms)', fontsize=14)\n",
    "yticks(fontsize=14)\n",
    "blocks[0] = 'block 1'\n",
    "legend(blocks, loc=3, ncol=3, fontsize=10)\n",
    "\n",
    "\n",
    "\n",
    "saveFile = imFolder + 'trainRxnTime.png'\n",
    "savefig(saveFile, bbox_inches='tight')"
   ]
  },
  {
   "cell_type": "code",
   "execution_count": 13,
   "metadata": {},
   "outputs": [
    {
     "data": {
      "image/png": "[encoded data removed]",
      "text/plain": [
       "<matplotlib.figure.Figure at 0x108028510>"
      ]
     },
     "metadata": {},
     "output_type": "display_data"
    }
   ],
   "source": [
    "# show train prop det looking\n",
    "\n",
    "figure(figsize=(5,2))\n",
    "\n",
    "conds = ['Common', 'Silent','Unique']\n",
    "blocks =  [1,2,3]\n",
    "\n",
    "colors = dict(zip(blocks, ['gray','red', 'orange']))\n",
    "w = .3\n",
    "xPos = 1\n",
    "for c in conds:\n",
    "    for b in blocks:\n",
    "        RTEstimate = trainMean[(trainMean.cond == c) &(trainMean.block==b)].trgRelProp\n",
    "        bar(xPos, mean(RTEstimate), width=w, align='center', yerr=np.std(RTEstimate)/np.sqrt(len(RTEstimate)), \n",
    "            color=colors[b], label=b, ecolor='black', capsize=5  )\n",
    "        xPos+=.3\n",
    "    xPos+=.2\n",
    "xlim([.7,4.1])\n",
    "xticks([1.3,2.4,3.5], conds, fontsize=16)\n",
    "ylabel('Train Det Looks', fontsize=14)\n",
    "yticks(fontsize=14)\n",
    "blocks[0] = 'block 1'\n",
    "legend(blocks, loc=3, ncol=3, fontsize=10)\n",
    "\n",
    "\n",
    "\n",
    "saveFile = imFolder + 'trainDetLook.png'\n",
    "savefig(saveFile, bbox_inches='tight')"
   ]
  },
  {
   "cell_type": "code",
   "execution_count": 14,
   "metadata": {},
   "outputs": [
    {
     "data": {
      "image/png": "[encoded data removed]",
      "text/plain": [
       "<matplotlib.figure.Figure at 0x108187410>"
      ]
     },
     "metadata": {},
     "output_type": "display_data"
    }
   ],
   "source": [
    "# show train prop det looking\n",
    "\n",
    "figure(figsize=(5,2))\n",
    "\n",
    "conds = ['Common', 'Silent','Unique']\n",
    "blocks =  [1,2,3]\n",
    "\n",
    "colors = dict(zip(blocks, ['gray','red', 'orange']))\n",
    "w = .3\n",
    "xPos = 1\n",
    "for c in conds:\n",
    "    for b in blocks:\n",
    "        RTEstimate = trainMean[(trainMean.cond == c) &(trainMean.block==b)].trgNFix\n",
    "        bar(xPos, mean(RTEstimate), width=w, align='center', yerr=np.std(RTEstimate)/np.sqrt(len(RTEstimate)), \n",
    "            color=colors[b], label=b, ecolor='black', capsize=5  )\n",
    "        xPos+=.3\n",
    "    xPos+=.2\n",
    "xlim([.7,4.1])\n",
    "xticks([1.3,2.4,3.5], conds, fontsize=16)\n",
    "ylabel('Train Fix Count', fontsize=14)\n",
    "yticks(fontsize=14)\n",
    "blocks[0] = 'block 1'\n",
    "legend(blocks, loc=3, ncol=3, fontsize=10)\n",
    "\n",
    "\n",
    "\n",
    "saveFile = imFolder + 'trainNFix.png'\n",
    "savefig(saveFile, bbox_inches='tight')"
   ]
  },
  {
   "cell_type": "code",
   "execution_count": 15,
   "metadata": {},
   "outputs": [
    {
     "data": {
      "image/png": "[encoded data removed]",
      "text/plain": [
       "<matplotlib.figure.Figure at 0x109052390>"
      ]
     },
     "metadata": {},
     "output_type": "display_data"
    }
   ],
   "source": [
    "# get train averages by condition and block\n",
    "train = df[df['type'] == 'Train']\n",
    "trainMean = train.groupby(['subid', 'cond']).mean().reset_index()\n",
    "\n",
    "figure(figsize=(5,2))\n",
    "\n",
    "conds = ['Common', 'Silent','Unique']\n",
    "blocks =  [1,2,3]\n",
    "colors = dict(zip(blocks, ['gray','red', 'black']))\n",
    "w = .8\n",
    "xPos = 1\n",
    "for c in conds:\n",
    "#     for b in blocks:\n",
    "    RTEstimate = trainMean[(trainMean.cond == c) ].trgLatRelFix\n",
    "    bar(xPos, mean(RTEstimate), width=w, align='center', yerr=np.std(RTEstimate)/np.sqrt(len(RTEstimate)), \n",
    "        color='red', label=b, ecolor='black', capsize=5  )\n",
    "    xPos+=1\n",
    "#     xPos+=.2\n",
    "xlim([.5,3.5])\n",
    "xticks([1,2,3], conds, fontsize=16)\n",
    "ylabel('Fix Latency (ms)', fontsize=14)\n",
    "yticks(fontsize=14)\n",
    "blocks[0] = 'block 1'\n",
    "# legend(blocks, loc=3, ncol=3, fontsize=10)\n",
    "\n",
    "\n",
    "\n",
    "saveFile = imFolder + 'latDetFix.png'\n",
    "savefig(saveFile, bbox_inches='tight')"
   ]
  },
  {
   "cell_type": "code",
   "execution_count": 16,
   "metadata": {},
   "outputs": [
    {
     "data": {
      "text/plain": [
       "Index([u'KEYPRESS', u'RESPONSE', u'RTEstimate', u'TRAIL_INDEX', u'auditory',\n",
       "       u'block', u'cond', u'correct_response', u'logRT', u'subid',\n",
       "       u'trgFirstFixRel', u'trgLatFix', u'trgLatRelFix', u'trgMDur',\n",
       "       u'trgMpup', u'trgNFix', u'trgNSac', u'trgRelProp', u'trgSAmp',\n",
       "       u'trialTime', u'trialtype', u'type', u'visual', u'warningBeepOn'],\n",
       "      dtype='object')"
      ]
     },
     "execution_count": 16,
     "metadata": {},
     "output_type": "execute_result"
    }
   ],
   "source": [
    "train.columns"
   ]
  },
  {
   "cell_type": "code",
   "execution_count": null,
   "metadata": {
    "collapsed": true
   },
   "outputs": [],
   "source": []
  },
  {
   "cell_type": "code",
   "execution_count": null,
   "metadata": {
    "collapsed": true
   },
   "outputs": [],
   "source": []
  },
  {
   "cell_type": "code",
   "execution_count": null,
   "metadata": {
    "collapsed": true
   },
   "outputs": [],
   "source": []
  },
  {
   "cell_type": "code",
   "execution_count": null,
   "metadata": {
    "collapsed": true
   },
   "outputs": [],
   "source": []
  },
  {
   "cell_type": "code",
   "execution_count": null,
   "metadata": {
    "collapsed": true
   },
   "outputs": [],
   "source": []
  },
  {
   "cell_type": "code",
   "execution_count": null,
   "metadata": {
    "collapsed": true
   },
   "outputs": [],
   "source": []
  }
 ],
 "metadata": {
  "kernelspec": {
   "display_name": "Python 2",
   "language": "python",
   "name": "python2"
  },
  "language_info": {
   "codemirror_mode": {
    "name": "ipython",
    "version": 2
   },
   "file_extension": ".py",
   "mimetype": "text/x-python",
   "name": "python",
   "nbconvert_exporter": "python",
   "pygments_lexer": "ipython2",
   "version": "2.7.13"
  }
 },
 "nbformat": 4,
 "nbformat_minor": 1
}
