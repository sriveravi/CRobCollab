{
 "metadata": {
  "name": "",
  "signature": "sha256:b328446b5608b8be54a12fe4e84dcc1ee195269ed61bcedebc8fa95c2aca1c3b"
 },
 "nbformat": 3,
 "nbformat_minor": 0,
 "worksheets": [
  {
   "cells": [
    {
     "cell_type": "code",
     "collapsed": false,
     "input": [
      "import pandas as pd\n",
      "import numpy as np\n",
      "import glob\n",
      "import time\n",
      "\n",
      "%pylab inline\n",
      "import matplotlib.pyplot as plt\n",
      "#import matplotlib.image as mpimg\n",
      "import matplotlib.pylab as pylab\n",
      "\n",
      "from matplotlib.backends.backend_pdf import PdfPages"
     ],
     "language": "python",
     "metadata": {},
     "outputs": [
      {
       "output_type": "stream",
       "stream": "stdout",
       "text": [
        "Populating the interactive namespace from numpy and matplotlib\n"
       ]
      },
      {
       "output_type": "stream",
       "stream": "stderr",
       "text": [
        "WARNING: pylab import has clobbered these variables: ['test']\n",
        "`%matplotlib` prevents importing * from pylab and numpy\n"
       ]
      }
     ],
     "prompt_number": 21
    },
    {
     "cell_type": "code",
     "collapsed": false,
     "input": [
      "#define function to load up datafiles\n",
      "def loadData( fileName, skipR = 0 ):\n",
      "\n",
      "    files = glob.glob( fileName )  \n",
      "    df = pd.DataFrame();\n",
      "    for f in files:\n",
      "        #subID = f.split('/')[1][0:-4]\n",
      "        thisSub = pd.read_csv( f,sep='\\t', skiprows=skipR)\n",
      "        #thisSub['subID'] = subID\n",
      "        df = pd.concat( [df, thisSub ], ignore_index=True)        \n",
      "    return df\n",
      "\n",
      "# return true if relevant ( return nan if nan)\n",
      "def isRel( AOI ):\n",
      "    if np.isnan( AOI ):\n",
      "        return np.nan    \n",
      "    if AOI in [3,4]:\n",
      "        return True\n",
      "    else:\n",
      "        return False\n",
      "\n"
     ],
     "language": "python",
     "metadata": {},
     "outputs": [],
     "prompt_number": 22
    },
    {
     "cell_type": "code",
     "collapsed": false,
     "input": [
      "# load up mix files\n",
      "outfile = 'mixDataByTrial.txt'\n",
      "files = 'DataMix/*.txt'\n",
      "rawColumns = [ 'subid', 'trial', 'trialTime','RESPONSE', 'RT', 'stimulus','target_auditory','target_visual', 'test_auditory','test_visual']\n",
      "\n",
      "# outfile = 'visDataByTrial.txt'\n",
      "# files = 'DataVis/*.txt'\n",
      "# rawColumns = [ 'subid', 'trial', 'trialTime','RESPONSE', 'RT', 'stimulus','target', 'test'] \n",
      "\n",
      "# outfile = 'audDataByTrial.txt'\n",
      "# files = 'DataAud/*.txt'\n",
      "\n",
      "df = loadData( files )\n",
      "\n",
      "df[ 'relFix' ] = df[ 'fixAois'].apply( lambda(x): isRel(x))\n",
      "df[ 'relSac' ] = df[ 'sacAois'].apply( lambda(x): isRel(x))\n",
      "# df[[ 'fixAois', 'relFix', 'sacAois', 'relSac'] ]"
     ],
     "language": "python",
     "metadata": {},
     "outputs": [],
     "prompt_number": 23
    },
    {
     "cell_type": "code",
     "collapsed": false,
     "input": [
      "df.columns"
     ],
     "language": "python",
     "metadata": {},
     "outputs": [
      {
       "metadata": {},
       "output_type": "pyout",
       "prompt_number": 24,
       "text": [
        "Index([u'DISPLAY_ON_TIME', u'KEYPRESS', u'KEY_RESPONSE_TIME', u'RESPONSE', u'RT', u'TRAIL_INDEX', u'correct_response', u'correct_response_auditory', u'fixAois', u'fixDuration', u'fixEnd', u'fixStart', u'fixX', u'fixY', u'lastMessage', u'pupil', u'sacAmp', u'sacAois', u'sacDuration', u'sacEndPosX', u'sacEndPosY', u'sacEndTime', u'sacStartPosX', u'sacStartPosY', u'sacStartTime', u'sacVel', u'stimulus', u'subid', u'target_auditory', u'target_visual', u'test_auditory', u'test_visual', u'trial', u'trialTime', u'type', u'relFix', u'relSac'], dtype='object')"
       ]
      }
     ],
     "prompt_number": 24
    },
    {
     "cell_type": "code",
     "collapsed": false,
     "input": [
      "# define a bunch of functions that extract the basic variables\n",
      "\n",
      "def latFix( someTrials, startTime):\n",
      "    # latency to first fixation\n",
      "    if len(someTrials) > 0:\n",
      "        lat = someTrials.fixStart.min() - startTime\n",
      "        return lat\n",
      "    else:\n",
      "        return np.nan\n",
      "\n",
      "def meanFixDur(someTrials ):\n",
      "    # calc mean fixation duration\n",
      "    return someTrials.fixDuration.mean()\n",
      "\n",
      "def meanPupSize(someTrials ):\n",
      "    # calc mean fixation duration\n",
      "    return someTrials.pupil.mean()\n",
      "\n",
      "def numFixSac( someTrials):\n",
      "    # calculate number fixations and number saccades\n",
      "    numFix =  someTrials['fixStart'].count()\n",
      "    numSac =  someTrials['sacAmp'].count()\n",
      "    return (numFix, numSac)\n",
      "\n",
      "#\n",
      "def sacAmp( someTrials):\n",
      "    return someTrials.sacAmp.sum()\n",
      "\n",
      "# return nan if no looks, or proportion look at relevant\n",
      "def propRel( someTrials ):    \n",
      "    relLook = someTrials[ someTrials.relFix == True].fixDuration.sum()    \n",
      "    allLook = someTrials['fixDuration'].sum()\n",
      "    if allLook == 0:\n",
      "        return np.nan\n",
      "    else:\n",
      "        return relLook/float(allLook)\n",
      "  \n",
      "def firstRel( someTrials ):\n",
      "    fix = someTrials[ someTrials.fixDuration >= 0 ]\n",
      "    if len(fix >0 ):\n",
      "        return fix.relFix.iloc[0]\n",
      "\n",
      "# lat = latFix( target, targOn[0])\n",
      "# latRel = latFix( target[ target.relFix == True ], targOn[0])\n",
      "\n",
      "# mDur = meanFixDur( target)\n",
      "# pup = meanPupSize( target)\n",
      "# (nFix, nSac) = numFixSac( target)\n",
      "# sAmp = sacAmp( target)\n",
      "\n",
      "# relProp = propRel( target )\n",
      "\n",
      "# print lat,latRel, mDur, pup, (nFix, nSac), sAmp, relProp"
     ],
     "language": "python",
     "metadata": {},
     "outputs": [],
     "prompt_number": 25
    },
    {
     "cell_type": "code",
     "collapsed": false,
     "input": [
      "# Loop through trials and calculate measures\n",
      "\n",
      "dfByTrial = pd.DataFrame();\n",
      "subs = df.subid.unique()\n",
      "for s in subs:\n",
      "    trials = sort(df[ (df.subid == s)].trial.unique())\n",
      "    for t in trials:\n",
      "        #summarize this trial dv's\n",
      "        thisTrialRaw = df[ (df.subid == s) & (df.trial == t)]   # raw dv's              \n",
      "        thisTrial = thisTrialRaw[ rawColumns ] \n",
      "        thisTrial = thisTrial[:1] # just first row\n",
      "        \n",
      "        #-------------\n",
      "        # get target and test fixations/saccades\n",
      "        targOn = thisTrial.trialTime.as_matrix()\n",
      "        # from display on -> 1000 ms\n",
      "        target = thisTrialRaw[ (thisTrialRaw.fixStart < targOn[0]+1000) \n",
      "                              | (thisTrialRaw.sacStartTime < targOn[0]+1000 ) ]        \n",
      "        # from 2000ms after display on\n",
      "        test = thisTrialRaw[ (thisTrialRaw.fixStart > targOn[0]+2000)  \n",
      "                            | (thisTrialRaw.sacStartTime > targOn[0]+2000  ) ]\n",
      "        #-------------            \n",
      "        # now calculate other measures (on target  )\n",
      "        thisTrial['trgLatFix'] = latFix( target, targOn[0])                \n",
      "        thisTrial['trgLatRelFix'] = latFix( target[ target.relFix == True ], targOn[0])\n",
      "        thisTrial['trgMDur'] = meanFixDur( target)\n",
      "        thisTrial['trgMpup'] = meanPupSize( target)\n",
      "        (thisTrial['trgNFix'], thisTrial['trgNSac']) = numFixSac( target)\n",
      "        thisTrial['trgSAmp'] = sacAmp( target)\n",
      "        thisTrial['trgRelProp'] = propRel( target )\n",
      "        thisTrial['trgFirstFixRel'] =  firstRel( target )\n",
      "        \n",
      "        # now calculate other measures (on test )\n",
      "        thisTrial['tstLatFix'] = latFix( test, targOn[0]+2000)                \n",
      "        thisTrial['tstLatRelFix'] = latFix( test[ test.relFix == True ], targOn[0]+2000)\n",
      "        thisTrial['tstMDur'] = meanFixDur( test)\n",
      "        thisTrial['tstMpup'] = meanPupSize( test)\n",
      "        (thisTrial['tstNFix'], thisTrial['tstNSac']) = numFixSac( test)\n",
      "        thisTrial['tstSAmp'] = sacAmp( test)\n",
      "        thisTrial['tstRelProp'] = propRel( test )        \n",
      "        thisTrial['tstFirstFixRel'] =  firstRel( test )\n",
      "        \n",
      "        # concatenate to big list\n",
      "        dfByTrial = pd.concat( [dfByTrial, thisTrial ], ignore_index=True) \n",
      "\n",
      "\n"
     ],
     "language": "python",
     "metadata": {},
     "outputs": [],
     "prompt_number": 26
    },
    {
     "cell_type": "code",
     "collapsed": false,
     "input": [
      "# dfByTrial\n",
      "# trgDF\n",
      "# thisTrial\n"
     ],
     "language": "python",
     "metadata": {},
     "outputs": [],
     "prompt_number": 27
    },
    {
     "cell_type": "code",
     "collapsed": false,
     "input": [
      "# dfByTrial\n",
      "# target"
     ],
     "language": "python",
     "metadata": {},
     "outputs": [],
     "prompt_number": 28
    },
    {
     "cell_type": "code",
     "collapsed": false,
     "input": [
      "\n",
      "# test"
     ],
     "language": "python",
     "metadata": {},
     "outputs": [],
     "prompt_number": 29
    },
    {
     "cell_type": "code",
     "collapsed": false,
     "input": [
      "dfByTrial.to_csv(outfile ,sep='\\t', mode='w')"
     ],
     "language": "python",
     "metadata": {},
     "outputs": [],
     "prompt_number": 30
    },
    {
     "cell_type": "code",
     "collapsed": false,
     "input": [
      "\n",
      "# test['relFix']"
     ],
     "language": "python",
     "metadata": {},
     "outputs": [],
     "prompt_number": 31
    },
    {
     "cell_type": "code",
     "collapsed": false,
     "input": [],
     "language": "python",
     "metadata": {},
     "outputs": [],
     "prompt_number": 31
    }
   ],
   "metadata": {}
  }
 ]
}